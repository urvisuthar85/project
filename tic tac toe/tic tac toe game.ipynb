{
 "cells": [
  {
   "cell_type": "code",
   "execution_count": 18,
   "metadata": {},
   "outputs": [],
   "source": [
    "board = ['-','-','-',\n",
    "         '-','-','-',\n",
    "         '-','-','-']"
   ]
  },
  {
   "cell_type": "code",
   "execution_count": 19,
   "metadata": {
    "scrolled": true
   },
   "outputs": [],
   "source": [
    "game_still_going = True"
   ]
  },
  {
   "cell_type": "code",
   "execution_count": 20,
   "metadata": {},
   "outputs": [],
   "source": [
    "winner = None"
   ]
  },
  {
   "cell_type": "code",
   "execution_count": 21,
   "metadata": {},
   "outputs": [],
   "source": [
    "current_player = 'x'"
   ]
  },
  {
   "cell_type": "code",
   "execution_count": 22,
   "metadata": {},
   "outputs": [
    {
     "name": "stdout",
     "output_type": "stream",
     "text": [
      "- | - | -\n",
      "- | - | -\n",
      "- | - | -\n"
     ]
    }
   ],
   "source": [
    "def display_board():\n",
    "    print(board[0] + ' | ' + board[1] + ' | ' + board[2] )\n",
    "    print(board[3] + ' | ' + board[4] + ' | ' + board[5] )\n",
    "    print(board[6] + ' | ' + board[7] + ' | ' + board[8] )\n",
    "display_board()"
   ]
  },
  {
   "cell_type": "code",
   "execution_count": 23,
   "metadata": {},
   "outputs": [],
   "source": [
    "def handel_turn(player):\n",
    "    print( player +'turn')\n",
    "    position = input('chooes position 1-9...!!!!    ')\n",
    "    \n",
    "    valid = False\n",
    "    while not valid:\n",
    "        while position not in ['1','2','3','4','5','6','7','8','9']:\n",
    "            position = input('chooes position 1-9...!!!!    ')\n",
    "        \n",
    "        position = int(position)-1\n",
    "        \n",
    "        if board[position] == '-':\n",
    "            valid = True\n",
    "        else:\n",
    "            print('you can go again')\n",
    "    \n",
    "    board[position] = player\n",
    "    display_board()"
   ]
  },
  {
   "cell_type": "code",
   "execution_count": 24,
   "metadata": {},
   "outputs": [],
   "source": [
    "def check_rows():\n",
    "    global game_still_going\n",
    "    \n",
    "    row_1 = board[0] == board[1] == board[2] != '-'\n",
    "    row_2 = board[3] == board[4] == board[5] != '-'\n",
    "    row_3 = board[6] == board[7] == board[8] != '-'\n",
    "    \n",
    "    if row_1 or row_2 or row_3 :\n",
    "        game_still_going = False\n",
    "    if row_1 :\n",
    "        return board[0]\n",
    "    elif row_2 :\n",
    "        return board[3]\n",
    "    elif row_3 :\n",
    "        return board[6]\n",
    "    else:\n",
    "        return None \n"
   ]
  },
  {
   "cell_type": "code",
   "execution_count": 25,
   "metadata": {},
   "outputs": [],
   "source": [
    "def check_columns():\n",
    "    global game_still_going\n",
    "    \n",
    "    column_1 = board[0] == board[3] == board[6] != '-'\n",
    "    column_2 = board[1] == board[4] == board[7] != '-'\n",
    "    column_3 = board[2] == board[5] == board[8] != '-'\n",
    "    \n",
    "    if column_1 or column_2 or column_3 :\n",
    "        game_still_going = False\n",
    "    if column_1 :\n",
    "        return board[0]\n",
    "    elif column_2 :\n",
    "        return board[1]\n",
    "    elif column_3 :\n",
    "        return board[2]\n",
    "    else:\n",
    "        return None\n",
    "\n",
    "\n"
   ]
  },
  {
   "cell_type": "code",
   "execution_count": 26,
   "metadata": {},
   "outputs": [],
   "source": [
    "def check_diagonals():\n",
    "    global game_still_going\n",
    "    \n",
    "    diagonal_1 = board[0] == board[4] == board[8] != '-'\n",
    "    diagonal_2 = board[6] == board[4] == board[2] != '-'\n",
    "    \n",
    "    \n",
    "    if diagonal_1 or diagonal_2 :\n",
    "        game_still_going = False\n",
    "    if diagonal_1 :\n",
    "        return board[0]\n",
    "    elif diagonal_2 :\n",
    "        return board[2]\n",
    "    else:\n",
    "        return None\n",
    "\n"
   ]
  },
  {
   "cell_type": "code",
   "execution_count": 27,
   "metadata": {},
   "outputs": [],
   "source": [
    "def check_for_winner():\n",
    "    global winner\n",
    "    row_winner = check_rows()\n",
    "    column_winner = check_columns()\n",
    "    diagonal_winner = check_diagonals()\n",
    "  \n",
    "    if row_winner:\n",
    "        winner = row_winner\n",
    "    elif column_winner:\n",
    "        winner = column_winner\n",
    "    elif diagonal_winner:\n",
    "        winner = diagonal_winner\n",
    "    else:\n",
    "        winner = None\n"
   ]
  },
  {
   "cell_type": "code",
   "execution_count": 28,
   "metadata": {},
   "outputs": [],
   "source": [
    "def check_if_tie():\n",
    "    global game_still_going\n",
    "    if \"-\" not in board:\n",
    "        game_still_going = False\n",
    "        return True\n",
    "    else :\n",
    "        return False\n",
    "        \n"
   ]
  },
  {
   "cell_type": "code",
   "execution_count": 29,
   "metadata": {},
   "outputs": [],
   "source": [
    "def flip_player():\n",
    "    global current_player\n",
    "    if current_player == 'x':\n",
    "        current_player = 'o'\n",
    "    elif current_player =='o':\n",
    "        current_player = 'x'\n",
    "    return"
   ]
  },
  {
   "cell_type": "code",
   "execution_count": 30,
   "metadata": {},
   "outputs": [],
   "source": [
    "def check_if_game_over():\n",
    "    check_for_winner()\n",
    "    check_if_tie()"
   ]
  },
  {
   "cell_type": "code",
   "execution_count": 31,
   "metadata": {},
   "outputs": [],
   "source": [
    "def play_game():\n",
    "    display_board()\n",
    "   \n",
    "    while game_still_going:\n",
    "        handel_turn(current_player)\n",
    "        check_if_game_over()\n",
    "        flip_player()\n",
    "    if winner == \"x\" or winner == \"o\":\n",
    "        print( winner + \"won...\")\n",
    "    elif winner == None:\n",
    "        print(\"tie...\")\n"
   ]
  },
  {
   "cell_type": "code",
   "execution_count": 32,
   "metadata": {},
   "outputs": [
    {
     "name": "stdout",
     "output_type": "stream",
     "text": [
      "- | - | -\n",
      "- | - | -\n",
      "- | - | -\n",
      "xturn\n",
      "chooes position 1-9...!!!!    7\n",
      "- | - | -\n",
      "- | - | -\n",
      "x | - | -\n",
      "oturn\n",
      "chooes position 1-9...!!!!    4\n",
      "- | - | -\n",
      "o | - | -\n",
      "x | - | -\n",
      "xturn\n",
      "chooes position 1-9...!!!!    5\n",
      "- | - | -\n",
      "o | x | -\n",
      "x | - | -\n",
      "oturn\n",
      "chooes position 1-9...!!!!    1\n",
      "o | - | -\n",
      "o | x | -\n",
      "x | - | -\n",
      "xturn\n",
      "chooes position 1-9...!!!!    3\n",
      "o | - | x\n",
      "o | x | -\n",
      "x | - | -\n",
      "xwon...\n"
     ]
    }
   ],
   "source": [
    "play_game()"
   ]
  },
  {
   "cell_type": "code",
   "execution_count": null,
   "metadata": {},
   "outputs": [],
   "source": []
  },
  {
   "cell_type": "code",
   "execution_count": null,
   "metadata": {},
   "outputs": [],
   "source": []
  },
  {
   "cell_type": "code",
   "execution_count": null,
   "metadata": {},
   "outputs": [],
   "source": []
  },
  {
   "cell_type": "code",
   "execution_count": null,
   "metadata": {},
   "outputs": [],
   "source": []
  }
 ],
 "metadata": {
  "kernelspec": {
   "display_name": "Python 3",
   "language": "python",
   "name": "python3"
  },
  "language_info": {
   "codemirror_mode": {
    "name": "ipython",
    "version": 3
   },
   "file_extension": ".py",
   "mimetype": "text/x-python",
   "name": "python",
   "nbconvert_exporter": "python",
   "pygments_lexer": "ipython3",
   "version": "3.7.4"
  }
 },
 "nbformat": 4,
 "nbformat_minor": 2
}
